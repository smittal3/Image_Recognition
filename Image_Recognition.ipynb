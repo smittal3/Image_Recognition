{
 "cells": [
  {
   "cell_type": "code",
   "execution_count": 1,
   "id": "6cdb3e2b",
   "metadata": {},
   "outputs": [
    {
     "name": "stderr",
     "output_type": "stream",
     "text": [
      "Using TensorFlow backend.\n"
     ]
    },
    {
     "name": "stdout",
     "output_type": "stream",
     "text": [
      "Downloading data from https://www.cs.toronto.edu/~kriz/cifar-10-python.tar.gz\n",
      "170500096/170498071 [==============================] - 156s 1us/step\n"
     ]
    }
   ],
   "source": [
    "from keras.datasets import cifar10\n",
    "(x_train, y_train), (x_test, y_test) = cifar10.load_data()"
   ]
  },
  {
   "cell_type": "code",
   "execution_count": 6,
   "id": "bfddb2b8",
   "metadata": {},
   "outputs": [
    {
     "name": "stdout",
     "output_type": "stream",
     "text": [
      "x_train shape: (50000, 32, 32, 3)\n",
      "y_train shape: (50000, 1)\n"
     ]
    }
   ],
   "source": [
    "print('x_train shape:', x_train.shape)\n",
    "print('y_train shape:', y_train.shape)"
   ]
  },
  {
   "cell_type": "code",
   "execution_count": 9,
   "id": "948e8fe3",
   "metadata": {},
   "outputs": [
    {
     "name": "stdout",
     "output_type": "stream",
     "text": [
      "The label is  [6]\n"
     ]
    },
    {
     "data": {
      "image/png": "[encoded data removed]",
      "text/plain": [
       "<Figure size 432x288 with 1 Axes>"
      ]
     },
     "metadata": {
      "needs_background": "light"
     },
     "output_type": "display_data"
    }
   ],
   "source": [
    "import matplotlib.pyplot as plt\n",
    "%matplotlib inline\n",
    "img = plt.imshow(x_train[0])\n",
    "print('The label is ', y_train[0])"
   ]
  },
  {
   "cell_type": "code",
   "execution_count": 11,
   "id": "a6d302c9",
   "metadata": {},
   "outputs": [],
   "source": [
    "import keras\n",
    "y_train_one_hot = keras.utils.to_categorical(y_train, 10)\n",
    "y_test_one_hot = keras.utils.to_categorical(y_test, 10)"
   ]
  },
  {
   "cell_type": "code",
   "execution_count": 12,
   "id": "ce303230",
   "metadata": {},
   "outputs": [],
   "source": [
    "x_train = x_train.astype('float32')\n",
    "x_test = x_test.astype('float32')\n",
    "x_train = x_train/255\n",
    "x_test = x_test/255"
   ]
  },
  {
   "cell_type": "code",
   "execution_count": 14,
   "id": "0fd07231",
   "metadata": {},
   "outputs": [
    {
     "name": "stderr",
     "output_type": "stream",
     "text": [
      "2021-10-18 00:54:57.831337: I tensorflow/core/platform/cpu_feature_guard.cc:145] This TensorFlow binary is optimized with Intel(R) MKL-DNN to use the following CPU instructions in performance critical operations:  SSE4.1 SSE4.2 AVX AVX2 AVX512F FMA\n",
      "To enable them in non-MKL-DNN operations, rebuild TensorFlow with the appropriate compiler flags.\n",
      "2021-10-18 00:54:57.837131: I tensorflow/core/common_runtime/process_util.cc:115] Creating new thread pool with default inter op setting: 8. Tune using inter_op_parallelism_threads for best performance.\n"
     ]
    },
    {
     "name": "stdout",
     "output_type": "stream",
     "text": [
      "Model: \"sequential_1\"\n",
      "_________________________________________________________________\n",
      "Layer (type)                 Output Shape              Param #   \n",
      "=================================================================\n",
      "conv2d_1 (Conv2D)            (None, 32, 32, 32)        896       \n",
      "_________________________________________________________________\n",
      "conv2d_2 (Conv2D)            (None, 32, 32, 32)        9248      \n",
      "_________________________________________________________________\n",
      "max_pooling2d_1 (MaxPooling2 (None, 16, 16, 32)        0         \n",
      "_________________________________________________________________\n",
      "dropout_1 (Dropout)          (None, 16, 16, 32)        0         \n",
      "_________________________________________________________________\n",
      "conv2d_3 (Conv2D)            (None, 16, 16, 64)        18496     \n",
      "_________________________________________________________________\n",
      "conv2d_4 (Conv2D)            (None, 16, 16, 64)        36928     \n",
      "_________________________________________________________________\n",
      "max_pooling2d_2 (MaxPooling2 (None, 8, 8, 64)          0         \n",
      "_________________________________________________________________\n",
      "dropout_2 (Dropout)          (None, 8, 8, 64)          0         \n",
      "_________________________________________________________________\n",
      "flatten_1 (Flatten)          (None, 4096)              0         \n",
      "_________________________________________________________________\n",
      "dense_1 (Dense)              (None, 512)               2097664   \n",
      "_________________________________________________________________\n",
      "dropout_3 (Dropout)          (None, 512)               0         \n",
      "_________________________________________________________________\n",
      "dense_2 (Dense)              (None, 10)                5130      \n",
      "=================================================================\n",
      "Total params: 2,168,362\n",
      "Trainable params: 2,168,362\n",
      "Non-trainable params: 0\n",
      "_________________________________________________________________\n"
     ]
    }
   ],
   "source": [
    "from keras.models import Sequential\n",
    "from keras.layers import Dense, Dropout, Flatten, Conv2D, MaxPooling2D\n",
    "model = Sequential()\n",
    "model.add(Conv2D(32, (3, 3), activation='relu', padding='same', input_shape=(32,32,3)))\n",
    "model.add(Conv2D(32, (3, 3), activation='relu', padding='same'))\n",
    "model.add(MaxPooling2D(pool_size=(2,2)))\n",
    "model.add(Dropout(0.25))\n",
    "model.add(Conv2D(64, (3, 3), activation='relu', padding='same'))\n",
    "model.add(Conv2D(64, (3, 3), activation='relu', padding='same'))\n",
    "model.add(MaxPooling2D(pool_size=(2, 2)))\n",
    "model.add(Dropout(0.25))\n",
    "model.add(Flatten())\n",
    "model.add(Dense(512, activation='relu'))\n",
    "model.add(Dropout(0.5))\n",
    "model.add(Dense(10, activation='softmax'))\n",
    "model.summary()"
   ]
  },
  {
   "cell_type": "code",
   "execution_count": 15,
   "id": "6797c43c",
   "metadata": {},
   "outputs": [],
   "source": [
    "model.compile(loss='categorical_crossentropy',\n",
    "              optimizer='adam',\n",
    "              metrics=['accuracy'])"
   ]
  },
  {
   "cell_type": "code",
   "execution_count": 16,
   "id": "7415bf83",
   "metadata": {},
   "outputs": [
    {
     "name": "stdout",
     "output_type": "stream",
     "text": [
      "Train on 40000 samples, validate on 10000 samples\n",
      "Epoch 1/20\n",
      "40000/40000 [==============================] - 160s 4ms/step - loss: 1.5393 - accuracy: 0.4388 - val_loss: 1.1604 - val_accuracy: 0.5819\n",
      "Epoch 2/20\n",
      "40000/40000 [==============================] - 118s 3ms/step - loss: 1.1234 - accuracy: 0.6004 - val_loss: 0.9269 - val_accuracy: 0.6779\n",
      "Epoch 3/20\n",
      "40000/40000 [==============================] - 100s 3ms/step - loss: 0.9604 - accuracy: 0.6606 - val_loss: 0.8666 - val_accuracy: 0.6840\n",
      "Epoch 4/20\n",
      "40000/40000 [==============================] - 103s 3ms/step - loss: 0.8657 - accuracy: 0.6958 - val_loss: 0.7836 - val_accuracy: 0.7277\n",
      "Epoch 5/20\n",
      "40000/40000 [==============================] - 103s 3ms/step - loss: 0.7859 - accuracy: 0.7241 - val_loss: 0.7346 - val_accuracy: 0.7454\n",
      "Epoch 6/20\n",
      "40000/40000 [==============================] - 106s 3ms/step - loss: 0.7302 - accuracy: 0.7414 - val_loss: 0.7240 - val_accuracy: 0.7449\n",
      "Epoch 7/20\n",
      "40000/40000 [==============================] - 101s 3ms/step - loss: 0.6840 - accuracy: 0.7592 - val_loss: 0.7198 - val_accuracy: 0.7521\n",
      "Epoch 8/20\n",
      "40000/40000 [==============================] - 102s 3ms/step - loss: 0.6488 - accuracy: 0.7696 - val_loss: 0.6977 - val_accuracy: 0.7603\n",
      "Epoch 9/20\n",
      "40000/40000 [==============================] - 98s 2ms/step - loss: 0.6108 - accuracy: 0.7821 - val_loss: 0.7040 - val_accuracy: 0.7620\n",
      "Epoch 10/20\n",
      "40000/40000 [==============================] - 100s 2ms/step - loss: 0.5854 - accuracy: 0.7930 - val_loss: 0.6930 - val_accuracy: 0.7649\n",
      "Epoch 11/20\n",
      "40000/40000 [==============================] - 103s 3ms/step - loss: 0.5574 - accuracy: 0.8026 - val_loss: 0.6835 - val_accuracy: 0.7695\n",
      "Epoch 12/20\n",
      "40000/40000 [==============================] - 109s 3ms/step - loss: 0.5373 - accuracy: 0.8104 - val_loss: 0.6845 - val_accuracy: 0.7724\n",
      "Epoch 13/20\n",
      "40000/40000 [==============================] - 109s 3ms/step - loss: 0.5130 - accuracy: 0.8187 - val_loss: 0.6968 - val_accuracy: 0.7670\n",
      "Epoch 14/20\n",
      "40000/40000 [==============================] - 109s 3ms/step - loss: 0.4974 - accuracy: 0.8256 - val_loss: 0.6787 - val_accuracy: 0.7727\n",
      "Epoch 15/20\n",
      "40000/40000 [==============================] - 108s 3ms/step - loss: 0.4726 - accuracy: 0.8348 - val_loss: 0.7234 - val_accuracy: 0.7665\n",
      "Epoch 16/20\n",
      "40000/40000 [==============================] - 107s 3ms/step - loss: 0.4693 - accuracy: 0.8335 - val_loss: 0.6869 - val_accuracy: 0.7793\n",
      "Epoch 17/20\n",
      "40000/40000 [==============================] - 111s 3ms/step - loss: 0.4456 - accuracy: 0.8417 - val_loss: 0.6981 - val_accuracy: 0.7765\n",
      "Epoch 18/20\n",
      "40000/40000 [==============================] - 109s 3ms/step - loss: 0.4298 - accuracy: 0.8469 - val_loss: 0.6773 - val_accuracy: 0.7824\n",
      "Epoch 19/20\n",
      "40000/40000 [==============================] - 113s 3ms/step - loss: 0.4201 - accuracy: 0.8530 - val_loss: 0.7123 - val_accuracy: 0.7785\n",
      "Epoch 20/20\n",
      "40000/40000 [==============================] - 103s 3ms/step - loss: 0.4148 - accuracy: 0.8547 - val_loss: 0.7029 - val_accuracy: 0.7772\n"
     ]
    }
   ],
   "source": [
    "hist = model.fit(x_train, y_train_one_hot, \n",
    "           batch_size=32, epochs=20, \n",
    "           validation_split=0.2)"
   ]
  },
  {
   "cell_type": "code",
   "execution_count": 17,
   "id": "e38cfed1",
   "metadata": {},
   "outputs": [
    {
     "data": {
      "image/png": "[encoded data removed]",
      "text/plain": [
       "<Figure size 432x288 with 1 Axes>"
      ]
     },
     "metadata": {
      "needs_background": "light"
     },
     "output_type": "display_data"
    }
   ],
   "source": [
    "plt.plot(hist.history['loss'])\n",
    "plt.plot(hist.history['val_loss'])\n",
    "plt.title('Model loss')\n",
    "plt.ylabel('Loss')\n",
    "plt.xlabel('Epoch')\n",
    "plt.legend(['Train', 'Val'], loc='upper right')\n",
    "plt.show()"
   ]
  },
  {
   "cell_type": "code",
   "execution_count": 19,
   "id": "de52e8c8",
   "metadata": {},
   "outputs": [
    {
     "data": {
      "image/png": "[encoded data removed]",
      "text/plain": [
       "<Figure size 432x288 with 1 Axes>"
      ]
     },
     "metadata": {
      "needs_background": "light"
     },
     "output_type": "display_data"
    }
   ],
   "source": [
    "plt.plot(hist.history['accuracy'])\n",
    "plt.plot(hist.history['val_accuracy'])\n",
    "plt.title('Model accuracy')\n",
    "plt.ylabel('Accuracy')\n",
    "plt.xlabel('Epoch')\n",
    "plt.legend(['Train', 'Val'], loc='lower right')\n",
    "plt.show()"
   ]
  },
  {
   "cell_type": "code",
   "execution_count": 20,
   "id": "48bbbfe9",
   "metadata": {},
   "outputs": [
    {
     "name": "stdout",
     "output_type": "stream",
     "text": [
      "10000/10000 [==============================] - 7s 722us/step\n"
     ]
    },
    {
     "data": {
      "text/plain": [
       "0.7728000283241272"
      ]
     },
     "execution_count": 20,
     "metadata": {},
     "output_type": "execute_result"
    }
   ],
   "source": [
    "model.evaluate(x_test, y_test_one_hot)[1]"
   ]
  },
  {
   "cell_type": "code",
   "execution_count": 21,
   "id": "e68616a1",
   "metadata": {},
   "outputs": [],
   "source": [
    "model.save('my_cifar10_model.h5')"
   ]
  },
  {
   "cell_type": "code",
   "execution_count": null,
   "id": "46924e9d",
   "metadata": {},
   "outputs": [],
   "source": []
  },
  {
   "cell_type": "code",
   "execution_count": null,
   "id": "e0bf7130",
   "metadata": {},
   "outputs": [],
   "source": []
  }
 ],
 "metadata": {
  "kernelspec": {
   "display_name": "Python 3 (ipykernel)",
   "language": "python",
   "name": "python3"
  },
  "language_info": {
   "codemirror_mode": {
    "name": "ipython",
    "version": 3
   },
   "file_extension": ".py",
   "mimetype": "text/x-python",
   "name": "python",
   "nbconvert_exporter": "python",
   "pygments_lexer": "ipython3",
   "version": "3.7.11"
  }
 },
 "nbformat": 4,
 "nbformat_minor": 5
}
